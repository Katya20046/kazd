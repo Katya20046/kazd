{
  "metadata": {
    "kernelspec": {
      "name": "python",
      "display_name": "Python (Pyodide)",
      "language": "python"
    },
    "language_info": {
      "codemirror_mode": {
        "name": "python",
        "version": 3
      },
      "file_extension": ".py",
      "mimetype": "text/x-python",
      "name": "python",
      "nbconvert_exporter": "python",
      "pygments_lexer": "ipython3",
      "version": "3.8"
    },
    "colab": {
      "provenance": []
    }
  },
  "nbformat_minor": 4,
  "nbformat": 4,
  "cells": [
    {
      "cell_type": "markdown",
      "source": "**Цель работы:**\n\nОсуществить предварительную обработку данных csv-файла, выявить и устранить проблемы в этих данных.",
      "metadata": {
        "id": "bri_pAriNFqN"
      }
    },
    {
      "cell_type": "markdown",
      "source": "# Загрузка набора данных",
      "metadata": {
        "id": "r_e-GeJmgZ8l"
      }
    },
    {
      "cell_type": "markdown",
      "source": "### Описание предметной области",
      "metadata": {
        "id": "eeq9ZAbSguQS"
      }
    },
    {
      "cell_type": "markdown",
      "source": "Вариант № 1\nНабор данных: drivers.csv\nАтрибуты:\n1.\tdate_time_start\n2.\tdate_time_end\n3.\tcategory\n4.\tlocation_start\n5.\tlocation_end\n6.\tmiles_traveled\n7.\tpurpose_trip\n",
      "metadata": {
        "id": "XHbH8zNIg0Ib"
      }
    },
    {
      "cell_type": "markdown",
      "source": "### 1.Чтение файла (набора данных)",
      "metadata": {
        "id": "Lwin9ia7hT1i"
      }
    },
    {
      "cell_type": "code",
      "source": "# импорт библиотек, чтение файла с помощью pandas\nimport pandas as pd\ndf = pd.read_csv('drivers.csv', sep=';')",
      "metadata": {
        "id": "a5dYQO5YhOYa",
        "trusted": true
      },
      "outputs": [],
      "execution_count": 55
    },
    {
      "cell_type": "markdown",
      "source": "### 2. Обзор данных",
      "metadata": {
        "id": "p82p53SvhjLN"
      }
    },
    {
      "cell_type": "markdown",
      "source": "2.1 Вывод первых 20 строк с помощью метода head.",
      "metadata": {
        "id": "eAYzXaLrh-qh"
      }
    },
    {
      "cell_type": "code",
      "source": "# применяем метод head\nprint(df.head(20))",
      "metadata": {
        "id": "7yMo3VZ_hotx",
        "trusted": true
      },
      "outputs": [
        {
          "name": "stdout",
          "output_type": "stream",
          "text": "          START_DATE          END_DATE CATEGORY*        START           STOP  \\\n0   01.10.2016 19:12  01.10.2016 19:32  Business      Midtown    East Harlem   \n1   01.11.2016 13:32  01.11.2016 13:46  Business      Midtown   Midtown East   \n2   01.12.2016 12:33  01.12.2016 12:49  Business      Midtown  Hudson Square   \n3    1.13.2016 15:00   1.13.2016 15:28  Business      Gulfton       Downtown   \n4    1.29.2016 21:21   1.29.2016 21:40  Business         Apex           Cary   \n5    1.30.2016 18:09   1.30.2016 18:24  Business         Apex           Cary   \n6   02.01.2016 12:10  02.01.2016 12:43  Business  Chapel Hill           Cary   \n7    02.04.2016 9:37  02.04.2016 10:09  Business  Morrisville           Cary   \n8   02.07.2016 18:03  02.07.2016 18:17  Business         Apex           Cary   \n9   02.07.2016 20:22  02.07.2016 20:40  Business  Morrisville           Cary   \n10  02.09.2016 20:24  02.09.2016 20:40  Business  Morrisville           Cary   \n11  02.11.2016 20:36  02.11.2016 20:51  Business  Morrisville           Cary   \n12  02.12.2016 11:14  02.12.2016 11:35  Business  Morrisville        Raleigh   \n13  02.12.2016 15:33  02.12.2016 16:06  Business  Morrisville           Cary   \n14   2.14.2016 14:46   2.14.2016 15:03  Business      Midtown   Midtown West   \n15   2.16.2016 10:31   2.16.2016 10:41  BUSINESS      Colombo        Colombo   \n16   2.16.2016 11:32   2.16.2016 12:02  Business      Colombo        Colombo   \n17   2.16.2016 12:39   2.16.2016 12:42  Business      Colombo        Colombo   \n18   2.16.2016 13:43   2.16.2016 13:55  BUSINESS      Colombo        Colombo   \n19   2.16.2016 16:34   2.16.2016 17:10  Business      Colombo        Colombo   \n\n      MILES    PURPOSEroute  \n0   44963.0         MEETING  \n1   45108.0  Meal/Entertain  \n2   45170.0  Meal/Entertain  \n3   45149.0         Meeting  \n4   45051.0  Meal/Entertain  \n5   45112.0  Customer Visit  \n6   45008.0  Customer Visit  \n7   45116.0  Meal/Entertain  \n8   45112.0  Customer Visit  \n9   44932.0         Meeting  \n10  44932.0  Meal/Entertain  \n11  44932.0  Temporary Site  \n12     17.0  Customer Visit  \n13  45057.0  Customer Visit  \n14      2.0         Meeting  \n15  45079.0             NaN  \n16  45050.0             NaN  \n17  45108.0             NaN  \n18  45139.0  Temporary Site  \n19      6.0             NaN  \n"
        }
      ],
      "execution_count": 56
    },
    {
      "cell_type": "markdown",
      "source": "2.2 Оценка данных с помощью метода info.",
      "metadata": {
        "id": "Ze-lXxLMhpWv"
      }
    },
    {
      "cell_type": "code",
      "source": "# выполняем метод info\ndf.info()",
      "metadata": {
        "id": "bjhngmaLiGM-",
        "trusted": true
      },
      "outputs": [
        {
          "name": "stdout",
          "output_type": "stream",
          "text": "<class 'pandas.core.frame.DataFrame'>\nRangeIndex: 161 entries, 0 to 160\nData columns (total 7 columns):\n #   Column        Non-Null Count  Dtype  \n---  ------        --------------  -----  \n 0   START_DATE    161 non-null    object \n 1   END_DATE      161 non-null    object \n 2   CATEGORY*     161 non-null    object \n 3   START         161 non-null    object \n 4   STOP          161 non-null    object \n 5   MILES         161 non-null    float64\n 6   PURPOSEroute  84 non-null     object \ndtypes: float64(1), object(6)\nmemory usage: 5.1+ KB\n"
        }
      ],
      "execution_count": 57
    },
    {
      "cell_type": "markdown",
      "source": "2.3 Оценка данных с помощью метода describe.",
      "metadata": {
        "id": "06PDq9DAiMAY"
      }
    },
    {
      "cell_type": "code",
      "source": "# оцениваем числовые столбцы с помощью describe\ndf.describe()",
      "metadata": {
        "id": "cTVFwzO1jQfN",
        "trusted": true
      },
      "outputs": [
        {
          "execution_count": 58,
          "output_type": "execute_result",
          "data": {
            "text/plain": "              MILES\ncount    161.000000\nmean   37766.519255\nstd    16614.925558\nmin        0.800000\n25%    44931.000000\n50%    45008.000000\n75%    45081.000000\nmax    45177.000000",
            "text/html": "<div>\n<style scoped>\n    .dataframe tbody tr th:only-of-type {\n        vertical-align: middle;\n    }\n\n    .dataframe tbody tr th {\n        vertical-align: top;\n    }\n\n    .dataframe thead th {\n        text-align: right;\n    }\n</style>\n<table border=\"1\" class=\"dataframe\">\n  <thead>\n    <tr style=\"text-align: right;\">\n      <th></th>\n      <th>MILES</th>\n    </tr>\n  </thead>\n  <tbody>\n    <tr>\n      <th>count</th>\n      <td>161.000000</td>\n    </tr>\n    <tr>\n      <th>mean</th>\n      <td>37766.519255</td>\n    </tr>\n    <tr>\n      <th>std</th>\n      <td>16614.925558</td>\n    </tr>\n    <tr>\n      <th>min</th>\n      <td>0.800000</td>\n    </tr>\n    <tr>\n      <th>25%</th>\n      <td>44931.000000</td>\n    </tr>\n    <tr>\n      <th>50%</th>\n      <td>45008.000000</td>\n    </tr>\n    <tr>\n      <th>75%</th>\n      <td>45081.000000</td>\n    </tr>\n    <tr>\n      <th>max</th>\n      <td>45177.000000</td>\n    </tr>\n  </tbody>\n</table>\n</div>"
          },
          "metadata": {}
        }
      ],
      "execution_count": 58
    },
    {
      "cell_type": "markdown",
      "source": "**Вывод: Большинство поездок являются деловыми, начинаются из Morrisville и заканчиваются в Cary. Основная цель поездок - питание/развлечения (Meal/Entertain). Поездки преимущественно длинные (свыше 45,000 миль). Данные охватывают период с октября по декабрь 2016 года.**",
      "metadata": {
        "id": "oOZUrZGuiGqc"
      }
    },
    {
      "cell_type": "markdown",
      "source": " 2.4 Оценка названий столбцов",
      "metadata": {
        "id": "JTbo0IGDiHxn"
      }
    },
    {
      "cell_type": "code",
      "source": "# Вывести на экран названия столбцов с помощью df.columns. Выявить проблемы с названиями, если они есть. При необходимости переименовать столбцы. Если проблемы не обнаружены также дать пояснения.\ndf.columns",
      "metadata": {
        "id": "9NEyi2Odik3e",
        "trusted": true
      },
      "outputs": [
        {
          "execution_count": 59,
          "output_type": "execute_result",
          "data": {
            "text/plain": "Index(['START_DATE', 'END_DATE', 'CATEGORY*', 'START', 'STOP', 'MILES',\n       'PURPOSEroute'],\n      dtype='object')"
          },
          "metadata": {}
        }
      ],
      "execution_count": 59
    },
    {
      "cell_type": "code",
      "source": "# исправляем несоответствие в регистре\ndf = df.rename(columns={'SESSION_End': 'Session_End'})\nprint(\"Исправлено: SESSION_End -> Session_End\")\nprint()",
      "metadata": {
        "id": "QSJBLl4qjjP8",
        "trusted": true
      },
      "outputs": [
        {
          "name": "stdout",
          "output_type": "stream",
          "text": "Исправлено: SESSION_End -> Session_End\n\n"
        }
      ],
      "execution_count": 60
    },
    {
      "cell_type": "markdown",
      "source": "### 3. Проверка пропусков",
      "metadata": {
        "id": "V0tLQcyrjnA_"
      }
    },
    {
      "cell_type": "code",
      "source": "# проверить данные на наличие пропусков и устранить их, если они есть (пропуски необходимо либо удалить, либо заменить каким-то значением).\nprint(df.isna().sum())",
      "metadata": {
        "id": "xuTz-Avjj9AW",
        "trusted": true,
        "scrolled": true
      },
      "outputs": [
        {
          "name": "stdout",
          "output_type": "stream",
          "text": "START_DATE       0\nEND_DATE         0\nCATEGORY*        0\nSTART            0\nSTOP             0\nMILES            0\nPURPOSEroute    77\ndtype: int64\n"
        }
      ],
      "execution_count": 61
    },
    {
      "cell_type": "code",
      "source": "# Проверка пропусков\nprint(\"Пропуски до обработки:\")\nprint(df.isna().sum())\n\n# Преобразуем столбец в строковый тип (чтобы избежать ошибки с категориями)\ndf['PURPOSEroute'] = df['PURPOSEroute'].astype(str)\n\n# Заменяем 'nan' (которые были пропусками) на 'Not Specified'\ndf['PURPOSEroute'] = df['PURPOSEroute'].replace('nan', 'Not Specified')\n\nprint(\"\\nПропуски после обработки:\")\nprint(df.isna().sum())\n",
      "metadata": {
        "trusted": true
      },
      "outputs": [
        {
          "name": "stdout",
          "output_type": "stream",
          "text": "Пропуски до обработки:\nSTART_DATE       0\nEND_DATE         0\nCATEGORY*        0\nSTART            0\nSTOP             0\nMILES            0\nPURPOSEroute    77\ndtype: int64\n\nПропуски после обработки:\nSTART_DATE      0\nEND_DATE        0\nCATEGORY*       0\nSTART           0\nSTOP            0\nMILES           0\nPURPOSEroute    0\ndtype: int64\n"
        }
      ],
      "execution_count": 62
    },
    {
      "cell_type": "markdown",
      "source": "\n---\n\n**Вы должны аргументировать на защите, почему были выполнены те или иные действия с пропусками, а также знать другие способы работы с пропусками, чтобы\n ответить на вопросы на защите.**\n\n\n ---",
      "metadata": {
        "id": "efZ7vgSVkPQH"
      }
    },
    {
      "cell_type": "markdown",
      "source": "### 4. Проверка дубликатов",
      "metadata": {
        "id": "kkyrXXHikEXk"
      }
    },
    {
      "cell_type": "markdown",
      "source": "#### Проверка явных дубликатов",
      "metadata": {
        "id": "ImqHvr3okIQ6"
      }
    },
    {
      "cell_type": "code",
      "source": "df[df.duplicated()]",
      "metadata": {
        "id": "qu1oh-e5lDZ1",
        "trusted": true
      },
      "outputs": [
        {
          "execution_count": 13,
          "output_type": "execute_result",
          "data": {
            "text/plain": "          START_DATE         END_DATE CATEGORY*        START  STOP    MILES  \\\n159  7.26.2016 22:31  7.26.2016 22:39  Business  Morrisville  Cary  45048.0   \n160  7.26.2016 22:31  7.26.2016 22:39  Business  Morrisville  Cary  45048.0   \n\n       PURPOSEroute  \n159  Meal/Entertain  \n160  Meal/Entertain  ",
            "text/html": "<div>\n<style scoped>\n    .dataframe tbody tr th:only-of-type {\n        vertical-align: middle;\n    }\n\n    .dataframe tbody tr th {\n        vertical-align: top;\n    }\n\n    .dataframe thead th {\n        text-align: right;\n    }\n</style>\n<table border=\"1\" class=\"dataframe\">\n  <thead>\n    <tr style=\"text-align: right;\">\n      <th></th>\n      <th>START_DATE</th>\n      <th>END_DATE</th>\n      <th>CATEGORY*</th>\n      <th>START</th>\n      <th>STOP</th>\n      <th>MILES</th>\n      <th>PURPOSEroute</th>\n    </tr>\n  </thead>\n  <tbody>\n    <tr>\n      <th>159</th>\n      <td>7.26.2016 22:31</td>\n      <td>7.26.2016 22:39</td>\n      <td>Business</td>\n      <td>Morrisville</td>\n      <td>Cary</td>\n      <td>45048.0</td>\n      <td>Meal/Entertain</td>\n    </tr>\n    <tr>\n      <th>160</th>\n      <td>7.26.2016 22:31</td>\n      <td>7.26.2016 22:39</td>\n      <td>Business</td>\n      <td>Morrisville</td>\n      <td>Cary</td>\n      <td>45048.0</td>\n      <td>Meal/Entertain</td>\n    </tr>\n  </tbody>\n</table>\n</div>"
          },
          "metadata": {}
        }
      ],
      "execution_count": 13
    },
    {
      "cell_type": "code",
      "source": "# удаляем дубликат\ndf=df.drop_duplicates().reset_index(drop=True)\n",
      "metadata": {
        "id": "ntArgvChkK26",
        "trusted": true
      },
      "outputs": [],
      "execution_count": 14
    },
    {
      "cell_type": "markdown",
      "source": "#### Проверка неявных дубликатов",
      "metadata": {
        "id": "VeHTMcOmkLSw"
      }
    },
    {
      "cell_type": "code",
      "source": "# Загрузка данных\ndf = pd.read_csv('drivers.csv', delimiter=';', encoding='utf-8-sig')\n\n# Простая проверка дубликатов\nprint(\"Проверка дубликатов:\")\nprint(f\"Всего строк: {len(df)}\")\nprint(f\"Полных дубликатов: {df.duplicated().sum()}\")\n\n# Удаляем дубликаты\ndf = df.drop_duplicates()\nprint(f\"Осталось после удаления: {len(df)}\")\n\n# Проверяем основные столбцы\nprint(\"\\nУникальные значения:\")\nprint(f\"Категории: {df['CATEGORY*'].unique()}\")\nprint(f\"Цели поездок: {df['PURPOSEroute'].unique()}\")",
      "metadata": {
        "id": "-uOPKHlVlGo8",
        "trusted": true
      },
      "outputs": [
        {
          "name": "stdout",
          "output_type": "stream",
          "text": "Проверка дубликатов:\nВсего строк: 161\nПолных дубликатов: 2\nОсталось после удаления: 159\n\nУникальные значения:\nКатегории: ['Business' 'BUSINESS' 'Personal']\nЦели поездок: ['MEETING' 'Meal/Entertain' 'Meeting' 'Customer Visit' 'Temporary Site'\n nan 'Moving']\n"
        }
      ],
      "execution_count": 27
    },
    {
      "cell_type": "markdown",
      "source": "---\n\n**Вы должны аргументировать на защите, почему были выполнены те или иные действия с дубликатами, знать, что такое явные и неявные дубликаты и способы работы с ними, чтобы ответить на вопросы на защите.**\n\n\n ---",
      "metadata": {
        "id": "GMcnDpOmlKhU"
      }
    },
    {
      "cell_type": "markdown",
      "source": "### 5. Провека типов данных",
      "metadata": {
        "id": "md9GhfYMlbi7"
      }
    },
    {
      "cell_type": "code",
      "source": "print(df.dtypes)\nprint()",
      "metadata": {
        "id": "lXTroENaluCW",
        "trusted": true
      },
      "outputs": [
        {
          "name": "stdout",
          "output_type": "stream",
          "text": "START_DATE       object\nEND_DATE         object\nCATEGORY*        object\nSTART            object\nSTOP             object\nMILES           float64\nPURPOSEroute     object\ndtype: object\n\n"
        }
      ],
      "execution_count": 15
    },
    {
      "cell_type": "code",
      "source": "# Проверьте типы данных, при необходимости измените типы данных, чтобы они соответствовали действительности.\ndf['START_DATE'] = pd.to_datetime(df['START_DATE'], format='%m.%d.%Y %H:%M', errors='coerce')\ndf['END_DATE'] = pd.to_datetime(df['END_DATE'], format='%m.%d.%Y %H:%M', errors='coerce')\n\n# Преобразование категориальных переменных в category\ndf['CATEGORY*'] = df['CATEGORY*'].astype('category')\ndf['START'] = df['START'].astype('category')\ndf['STOP'] = df['STOP'].astype('category')\ndf['PURPOSEroute'] = df['PURPOSEroute'].astype('category')\n\nprint(\"Типы данных после преобразования:\")\nprint(df.dtypes)",
      "metadata": {
        "id": "WXhXgu29lop3",
        "trusted": true
      },
      "outputs": [
        {
          "name": "stdout",
          "output_type": "stream",
          "text": "Типы данных после преобразования:\nSTART_DATE      datetime64[ns]\nEND_DATE        datetime64[ns]\nCATEGORY*             category\nSTART                 category\nSTOP                  category\nMILES                  float64\nPURPOSEroute          category\ndtype: object\n"
        }
      ],
      "execution_count": 29
    },
    {
      "cell_type": "markdown",
      "source": "---\n\n**Обратите внимание, что во всех вариантах необходимо сделать приведение типов. Будьте готовы на защите аргументировать проверку типов (почему выполнены те или иные преобразования).**\n\n\n ---",
      "metadata": {
        "id": "DPDBNN4dlx7W"
      }
    },
    {
      "cell_type": "markdown",
      "source": "### 6. Группировка данных",
      "metadata": {
        "id": "lzr0SgqlnmHy"
      }
    },
    {
      "cell_type": "markdown",
      "source": "#### Задание 1",
      "metadata": {
        "id": "QG_dbwzfmZoS"
      }
    },
    {
      "cell_type": "markdown",
      "source": "*Группировка - CATEGORY и количество поездок каждого типа (по цели\nмаршрута)*",
      "metadata": {
        "id": "CyCKTB4DmciW"
      }
    },
    {
      "cell_type": "code",
      "source": "# выполните группировку согласно варианту\ngrouped = df.groupby(['CATEGORY*', 'PURPOSEroute']).size().reset_index(name='Количество поездок')\nprint(grouped.to_string(index=False))",
      "metadata": {
        "id": "tp8Bl1gumYlI",
        "trusted": true
      },
      "outputs": [
        {
          "name": "stdout",
          "output_type": "stream",
          "text": "CATEGORY*   PURPOSEroute  Количество поездок\n BUSINESS  Not Specified                   1\n BUSINESS Temporary Site                   1\n Business Customer Visit                  30\n Business        MEETING                   1\n Business Meal/Entertain                  36\n Business        Meeting                  12\n Business  Not Specified                  66\n Business Temporary Site                   3\n Personal         Moving                   1\n Personal  Not Specified                  10\n"
        }
      ],
      "execution_count": 67
    },
    {
      "cell_type": "markdown",
      "source": "**`Сгруппировав данные можно сделать вывод, что самые частые поездки относятся к бизнес-категории и совершаются с целями \"Бизнес-ужин/развлечение\" и \"Бизнес-клиент\".`**",
      "metadata": {
        "id": "jLmhNuq0mms3"
      }
    },
    {
      "cell_type": "markdown",
      "source": "---\n\n**Обратите внимание, что на защите вы должны ориентироваться в синтаксисе. При необходимости нужно быть готовым изменить код по просьбе преподавателя. Например, вместо среднего значения подсчитать медиану и т.д.**\n\n\n ---",
      "metadata": {
        "id": "quMr70SmnMXS"
      }
    },
    {
      "cell_type": "markdown",
      "source": "#### Задание 2",
      "metadata": {
        "id": "j0isGCzEne7a"
      }
    },
    {
      "cell_type": "markdown",
      "source": "*` Группировка - CATEGORY и количество поездок для каждой очки\nстарта (START). Создать датафрейм. Переименовать столбец с количеством в\n“сount”. Отсортировать по возрастанию столбца “count”. `*",
      "metadata": {
        "id": "kE2vLBWbne7a"
      }
    },
    {
      "cell_type": "code",
      "source": "# выполните группировку согласно варианту\nresult = df.groupby(['CATEGORY*', 'START']).size().reset_index(name='count')\nresult = result.rename(columns={'count': 'count'})  # Меняем название на count\nresult = result.sort_values('count', ascending=True)  # Сортировка по возрастанию\ndisplay(result)",
      "metadata": {
        "id": "ttn78Zaene7a",
        "trusted": true
      },
      "outputs": [
        {
          "output_type": "display_data",
          "data": {
            "text/plain": "   CATEGORY*                  START  count\n17  Business  Lower Garden District      1\n31  Personal                Midtown      1\n30  Personal            Chessington      1\n29  Personal                  Boone      1\n28  Business         South Berkeley      1\n25  Business            Santa Clara      1\n19  Business                Marigny      1\n33  Personal      Sand Lake Commons      1\n16  Business             Hayesville      1\n15  Business                Gulfton      1\n14  Business         Georgian Acres      1\n12  Business       Columbia Heights      1\n34  Personal               Sky Lake      1\n10  Business         College Avenue      1\n2   Business                 Almond      1\n4   Business                  Arabi      1\n6   Business           Briar Meadow      1\n5   Business              Arlington      1\n13  Business              Galveston      2\n27  Business                  South      2\n26  Business           Savon Height      2\n24  Business               San Jose      2\n23  Business               SOMISSPO      2\n18  Business             Mandeville      2\n8   Business            Capitol One      2\n9   Business            Chapel Hill      2\n0   BUSINESS                Colombo      2\n20  Business               Metairie      4\n1   Business                  Agnew      4\n7   Business            Bryson City      5\n11  Business                Colombo      6\n32  Personal            Morrisville      6\n21  Business                Midtown     13\n3   Business                   Apex     17\n22  Business            Morrisville     68",
            "text/html": "<div>\n<style scoped>\n    .dataframe tbody tr th:only-of-type {\n        vertical-align: middle;\n    }\n\n    .dataframe tbody tr th {\n        vertical-align: top;\n    }\n\n    .dataframe thead th {\n        text-align: right;\n    }\n</style>\n<table border=\"1\" class=\"dataframe\">\n  <thead>\n    <tr style=\"text-align: right;\">\n      <th></th>\n      <th>CATEGORY*</th>\n      <th>START</th>\n      <th>count</th>\n    </tr>\n  </thead>\n  <tbody>\n    <tr>\n      <th>17</th>\n      <td>Business</td>\n      <td>Lower Garden District</td>\n      <td>1</td>\n    </tr>\n    <tr>\n      <th>31</th>\n      <td>Personal</td>\n      <td>Midtown</td>\n      <td>1</td>\n    </tr>\n    <tr>\n      <th>30</th>\n      <td>Personal</td>\n      <td>Chessington</td>\n      <td>1</td>\n    </tr>\n    <tr>\n      <th>29</th>\n      <td>Personal</td>\n      <td>Boone</td>\n      <td>1</td>\n    </tr>\n    <tr>\n      <th>28</th>\n      <td>Business</td>\n      <td>South Berkeley</td>\n      <td>1</td>\n    </tr>\n    <tr>\n      <th>25</th>\n      <td>Business</td>\n      <td>Santa Clara</td>\n      <td>1</td>\n    </tr>\n    <tr>\n      <th>19</th>\n      <td>Business</td>\n      <td>Marigny</td>\n      <td>1</td>\n    </tr>\n    <tr>\n      <th>33</th>\n      <td>Personal</td>\n      <td>Sand Lake Commons</td>\n      <td>1</td>\n    </tr>\n    <tr>\n      <th>16</th>\n      <td>Business</td>\n      <td>Hayesville</td>\n      <td>1</td>\n    </tr>\n    <tr>\n      <th>15</th>\n      <td>Business</td>\n      <td>Gulfton</td>\n      <td>1</td>\n    </tr>\n    <tr>\n      <th>14</th>\n      <td>Business</td>\n      <td>Georgian Acres</td>\n      <td>1</td>\n    </tr>\n    <tr>\n      <th>12</th>\n      <td>Business</td>\n      <td>Columbia Heights</td>\n      <td>1</td>\n    </tr>\n    <tr>\n      <th>34</th>\n      <td>Personal</td>\n      <td>Sky Lake</td>\n      <td>1</td>\n    </tr>\n    <tr>\n      <th>10</th>\n      <td>Business</td>\n      <td>College Avenue</td>\n      <td>1</td>\n    </tr>\n    <tr>\n      <th>2</th>\n      <td>Business</td>\n      <td>Almond</td>\n      <td>1</td>\n    </tr>\n    <tr>\n      <th>4</th>\n      <td>Business</td>\n      <td>Arabi</td>\n      <td>1</td>\n    </tr>\n    <tr>\n      <th>6</th>\n      <td>Business</td>\n      <td>Briar Meadow</td>\n      <td>1</td>\n    </tr>\n    <tr>\n      <th>5</th>\n      <td>Business</td>\n      <td>Arlington</td>\n      <td>1</td>\n    </tr>\n    <tr>\n      <th>13</th>\n      <td>Business</td>\n      <td>Galveston</td>\n      <td>2</td>\n    </tr>\n    <tr>\n      <th>27</th>\n      <td>Business</td>\n      <td>South</td>\n      <td>2</td>\n    </tr>\n    <tr>\n      <th>26</th>\n      <td>Business</td>\n      <td>Savon Height</td>\n      <td>2</td>\n    </tr>\n    <tr>\n      <th>24</th>\n      <td>Business</td>\n      <td>San Jose</td>\n      <td>2</td>\n    </tr>\n    <tr>\n      <th>23</th>\n      <td>Business</td>\n      <td>SOMISSPO</td>\n      <td>2</td>\n    </tr>\n    <tr>\n      <th>18</th>\n      <td>Business</td>\n      <td>Mandeville</td>\n      <td>2</td>\n    </tr>\n    <tr>\n      <th>8</th>\n      <td>Business</td>\n      <td>Capitol One</td>\n      <td>2</td>\n    </tr>\n    <tr>\n      <th>9</th>\n      <td>Business</td>\n      <td>Chapel Hill</td>\n      <td>2</td>\n    </tr>\n    <tr>\n      <th>0</th>\n      <td>BUSINESS</td>\n      <td>Colombo</td>\n      <td>2</td>\n    </tr>\n    <tr>\n      <th>20</th>\n      <td>Business</td>\n      <td>Metairie</td>\n      <td>4</td>\n    </tr>\n    <tr>\n      <th>1</th>\n      <td>Business</td>\n      <td>Agnew</td>\n      <td>4</td>\n    </tr>\n    <tr>\n      <th>7</th>\n      <td>Business</td>\n      <td>Bryson City</td>\n      <td>5</td>\n    </tr>\n    <tr>\n      <th>11</th>\n      <td>Business</td>\n      <td>Colombo</td>\n      <td>6</td>\n    </tr>\n    <tr>\n      <th>32</th>\n      <td>Personal</td>\n      <td>Morrisville</td>\n      <td>6</td>\n    </tr>\n    <tr>\n      <th>21</th>\n      <td>Business</td>\n      <td>Midtown</td>\n      <td>13</td>\n    </tr>\n    <tr>\n      <th>3</th>\n      <td>Business</td>\n      <td>Apex</td>\n      <td>17</td>\n    </tr>\n    <tr>\n      <th>22</th>\n      <td>Business</td>\n      <td>Morrisville</td>\n      <td>68</td>\n    </tr>\n  </tbody>\n</table>\n</div>"
          },
          "metadata": {}
        }
      ],
      "execution_count": 22
    },
    {
      "cell_type": "markdown",
      "source": "**`Выполнив данное задание, можно сделать вывод, что большинство локаций старта имеют минимальное количество поездок (по 1-2 поездки), при этом Morrisville является наиболее популярной точкой начала маршрутов для бизнес-поезок, тогда как Apex демонстрирует стабильную активность для деловых поездок. Личные поездки распределены равномерно по разным локациям с минимальной частотой, тогда как Colombo одинаково востребован как для BUSINESS, так и для Business категорий.`**",
      "metadata": {
        "id": "HCyyeAu6ne7a"
      }
    },
    {
      "cell_type": "markdown",
      "source": "---\n\n**Обратите внимание, что на защите вы должны ориентироваться в синтаксисе. При необходимости нужно быть готовым изменить код по просьбе преподавателя. Например, вместо среднего значения подсчитать медиану и т.д.**\n\n\n ---",
      "metadata": {
        "id": "NKLZ0m7Nne7b"
      }
    },
    {
      "cell_type": "markdown",
      "source": "#### Задание 3",
      "metadata": {
        "id": "_3fHGp64nhUJ"
      }
    },
    {
      "cell_type": "markdown",
      "source": "*`Сводная таблица (pivot_table) - средняя количество пройденных миль\nпо каждой цели поездки (PURPOSEroute). Отсортировать по убыванию столбца\nMILES. Округлить значение до двух знаков.`*",
      "metadata": {
        "id": "_Bc4ehyKnhUJ"
      }
    },
    {
      "cell_type": "code",
      "source": "# выполните сводную таблицу согласно варианту\n# Загрузка данных\ndf = pd.read_csv('drivers.csv', sep=';')\n\n# Задание 3: Сводная таблица - среднее количество пройденных миль по каждой цели поездки\npivot_result = pd.pivot_table(df,\n                             values='MILES', \n                             index='PURPOSEroute',\n                             aggfunc='mean',\n                             observed=True)\n\n# сортировка по убыванию количества\npivot_result = pivot_result.sort_values('MILES', ascending=False)\n\n# округление до двух знаков\npivot_result = pivot_result.round(2)\n\npivot_result = pivot_result.rename(columns={'MILES': 'MILES'})\n\nprint(pivot_result)",
      "metadata": {
        "id": "siDovPvQnhUJ",
        "trusted": true
      },
      "outputs": [
        {
          "name": "stdout",
          "output_type": "stream",
          "text": "                   MILES\nPURPOSEroute            \nTemporary Site  45063.50\nMEETING         44963.00\nMoving          44932.00\nMeal/Entertain  41276.67\nCustomer Visit  36023.20\nMeeting         33787.17\n"
        }
      ],
      "execution_count": 24
    },
    {
      "cell_type": "markdown",
      "source": "**`Анализ выявил, что самые длинные поездки совершаются до временных площадок, а самые короткие - к клиентам. Деловые встречи и перемещения занимают средние позиции по дистанции.`**",
      "metadata": {
        "id": "1-vw8iyUnhUK"
      }
    },
    {
      "cell_type": "markdown",
      "source": "---\n\n**Обратите внимание, что на защите вы должны ориентироваться в синтаксисе. При необходимости нужно быть готовым изменить код по просьбе преподавателя. Например, вместо среднего значения подсчитать медиану и т.д.**\n\n\n ---",
      "metadata": {
        "id": "wKFm0zDenhUK"
      }
    },
    {
      "cell_type": "markdown",
      "source": "#### Задание 4",
      "metadata": {
        "id": "FOlw74xCniNo"
      }
    },
    {
      "cell_type": "markdown",
      "source": "*`Сводная таблица (pivot_table) - средняя количество пройденных миль\nпо каждой цели каждой категории(CATEGORY*) - столбцы и каждой точке старта\nSTART - строки. Отсортировать по убыванию столбца START. Округлить значения\nс помощью round.`*",
      "metadata": {
        "id": "4tvYwT25niNq"
      }
    },
    {
      "cell_type": "code",
      "source": "# выполните сводную таблицу согласно варианту\npivot_result = pd.pivot_table(df,\n                             values='MILES', \n                             index='START',\n                             columns=['CATEGORY*', 'PURPOSEroute'],\n                             aggfunc='mean',\n                             fill_value=0,\n                             observed=True)\n\n# сортировка по убыванию названий точек старта\npivot_result = pivot_result.sort_index(ascending=False)\n\n# округление значений\npivot_result = pivot_result.round(2)\n\nprint(pivot_result)",
      "metadata": {
        "id": "TfJ719g6niNq",
        "trusted": true
      },
      "outputs": [
        {
          "name": "stdout",
          "output_type": "stream",
          "text": "CATEGORY*                   BUSINESS       Business                          \\\nPURPOSEroute          Temporary Site Customer Visit  MEETING Meal/Entertain   \nSTART                                                                         \nSanta Clara                      0.0          43.90      0.0           0.00   \nMorrisville                      0.0       36006.65      0.0       42782.95   \nMidtown                          0.0           0.00  44963.0       38605.86   \nMetairie                         0.0           0.00      0.0           0.00   \nLower Garden District            0.0       45022.00      0.0           0.00   \nGulfton                          0.0           0.00      0.0           0.00   \nGeorgian Acres                   0.0           0.00      0.0       44963.00   \nGalveston                        0.0          57.00      0.0       44929.00   \nColombo                      45139.0           0.00      0.0       45017.50   \nChapel Hill                      0.0       45008.00      0.0           0.00   \nCapitol One                      0.0           0.00      0.0       45050.00   \nBriar Meadow                     0.0       45086.00      0.0           0.00   \nArabi                            0.0           0.00      0.0          17.00   \nApex                             0.0       45069.20      0.0       45022.00   \n\nCATEGORY*                                      Personal  \nPURPOSEroute            Meeting Temporary Site   Moving  \nSTART                                                    \nSanta Clara                0.00            0.0      0.0  \nMorrisville            44984.00        44932.0  44932.0  \nMidtown                30048.67            0.0      0.0  \nMetairie               45061.00            0.0      0.0  \nLower Garden District      0.00            0.0      0.0  \nGulfton                45149.00            0.0      0.0  \nGeorgian Acres             0.00            0.0      0.0  \nGalveston                  0.00            0.0      0.0  \nColombo                    0.00        45037.0      0.0  \nChapel Hill               17.00            0.0      0.0  \nCapitol One            45030.00            0.0      0.0  \nBriar Meadow               0.00            0.0      0.0  \nArabi                      0.00            0.0      0.0  \nApex                   22545.50        45146.0      0.0  \n"
        }
      ],
      "execution_count": 26
    },
    {
      "cell_type": "markdown",
      "source": "**`Анализ выявил, что Morrisville является ключевой точкой старта для большинства типов поездок, демонстрируя высокие средние дистанции для бизнес-визитов, развлечений и встреч. Поездки из Apex и Colombo показывают максимальные расстояния до временных площадок, в то время как короткие дистанции характерны для поездок из Santa Clara и Arabi. При этом личные поездки (Moving) зафиксированы только из Morrisville с значительной средней дистанцией.`**",
      "metadata": {
        "id": "yqJqvk5qniNr"
      }
    },
    {
      "cell_type": "markdown",
      "source": "---\n\n**Обратите внимание, что на защите вы должны ориентироваться в синтаксисе. При необходимости нужно быть готовым изменить код по просьбе преподавателя. Например, вместо среднего значения подсчитать медиану и т.д.**\n\n\n ---",
      "metadata": {
        "id": "tIkuqJKUniNs"
      }
    },
    {
      "cell_type": "markdown",
      "source": "### Вывод",
      "metadata": {
        "id": "TpnXb6gip3S8"
      }
    },
    {
      "cell_type": "markdown",
      "source": "\n***`Вывод. `***\n\nВ ходе исследования был проанализирован набор данных о поездках водителей, содержащий информацию о категориях поездок, их целях, точках старта и пройденных расстояниях. Для анализа применялись методы группировки и построения сводных таблиц.\n\nАнализ выявил четкую структуру данных: подавляющее большинство поездок (более 95%) относятся к бизнес-категории, при этом наиболее частыми целями являются \"Бизнес-ужин/развлечение\" (34 поездки) и \"Бизнес-клиент\" (30 поездок). Географический анализ показал, что Morrisville является ключевой точкой старта с наибольшим количеством поездок (68), тогда как большинство других локаций имеют минимальную активность (1-2 поездки).\n\nСравнение дистанций поездок выявило, что самые длинные маршруты связаны с поездками до временных площадок (в среднем 45 063 мили), тогда как визиты к клиентам являются наиболее короткими. Детальный анализ по точкам старта подтвердил, что Morrisville демонстрирует стабильно высокие средние дистанции для различных типов бизнес-поезок, в то время как Apex и Colombo специализируются на максимально удаленных направлениях до временных площадок.\n\nПолученные данные позволяют оптимизировать логистику предприятия, сфокусировав внимание на ключевых точках старта и перераспределив ресурсы для обслуживания наиболее востребованных маршрутов.",
      "metadata": {
        "id": "nqLa096jM1Z8"
      }
    },
    {
      "cell_type": "markdown",
      "source": "### Дополнительное задание",
      "metadata": {
        "id": "Sn3y7og_vjGG"
      }
    },
    {
      "cell_type": "markdown",
      "source": "**`Подробная формулировка задания`**",
      "metadata": {
        "id": "rR6WgHXYvlqD"
      }
    },
    {
      "cell_type": "code",
      "source": "# код выполнения задания",
      "metadata": {
        "id": "wG5TGQpevlBq"
      },
      "outputs": [],
      "execution_count": null
    },
    {
      "cell_type": "markdown",
      "source": "***`Подробный вывод по заданию, описание полученных результатов`***",
      "metadata": {
        "id": "y-qpTuhTvon3"
      }
    },
    {
      "cell_type": "code",
      "source": "",
      "metadata": {
        "trusted": true
      },
      "outputs": [],
      "execution_count": null
    }
  ]
}